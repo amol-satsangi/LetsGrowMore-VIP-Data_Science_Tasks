{
  "cells": [
    {
      "cell_type": "markdown",
      "source": [
        "#Next Word Prediction\n",
        "--------------------------\n",
        "\n"
      ],
      "metadata": {
        "id": "GaQVMQCkmxCF"
      }
    },
    {
      "cell_type": "markdown",
      "source": [
        "Given three words of a sentence, it should predict next word. I am using **LSTM (Long-Short Term Memory)** here.\n",
        "\n",
        "**Note:** LSTM comes under Recurrent Neural Network (RNN) architecture used in the field of deep learning. A common LSTM unit is composed of a cell, an input gate, an output gate and a forget gate."
      ],
      "metadata": {
        "id": "V0ynWWxdmp39"
      }
    },
    {
      "cell_type": "markdown",
      "source": [
        "###Step 1: Import libraries"
      ],
      "metadata": {
        "id": "Uvvc6iaRnAjV"
      }
    },
    {
      "cell_type": "code",
      "execution_count": null,
      "metadata": {
        "id": "ZzlekodEVfXI"
      },
      "outputs": [],
      "source": [
        "import tensorflow as tf\n",
        "from tensorflow.keras.preprocessing.text import Tokenizer\n",
        "from tensorflow.keras.layers import Embedding, LSTM, Dense\n",
        "from tensorflow.keras.models import Sequential\n",
        "from tensorflow.keras.utils import to_categorical\n",
        "from tensorflow.keras.optimizers import Adam\n",
        "import pickle\n",
        "import numpy as np\n",
        "import os"
      ]
    },
    {
      "cell_type": "markdown",
      "source": [
        "###Step 2: Load your file"
      ],
      "metadata": {
        "id": "IUYiMqb6nFJB"
      }
    },
    {
      "cell_type": "code",
      "execution_count": null,
      "metadata": {
        "colab": {
          "base_uri": "https://localhost:8080/",
          "height": 73
        },
        "id": "KH2h2d6JVm2a",
        "outputId": "ed26b34f-6e09-44c9-e2d5-9943904fe1fb"
      },
      "outputs": [
        {
          "output_type": "display_data",
          "data": {
            "text/plain": [
              "<IPython.core.display.HTML object>"
            ],
            "text/html": [
              "\n",
              "     <input type=\"file\" id=\"files-7e86a5b1-b69b-4792-9970-8380ad49bd00\" name=\"files[]\" multiple disabled\n",
              "        style=\"border:none\" />\n",
              "     <output id=\"result-7e86a5b1-b69b-4792-9970-8380ad49bd00\">\n",
              "      Upload widget is only available when the cell has been executed in the\n",
              "      current browser session. Please rerun this cell to enable.\n",
              "      </output>\n",
              "      <script>// Copyright 2017 Google LLC\n",
              "//\n",
              "// Licensed under the Apache License, Version 2.0 (the \"License\");\n",
              "// you may not use this file except in compliance with the License.\n",
              "// You may obtain a copy of the License at\n",
              "//\n",
              "//      http://www.apache.org/licenses/LICENSE-2.0\n",
              "//\n",
              "// Unless required by applicable law or agreed to in writing, software\n",
              "// distributed under the License is distributed on an \"AS IS\" BASIS,\n",
              "// WITHOUT WARRANTIES OR CONDITIONS OF ANY KIND, either express or implied.\n",
              "// See the License for the specific language governing permissions and\n",
              "// limitations under the License.\n",
              "\n",
              "/**\n",
              " * @fileoverview Helpers for google.colab Python module.\n",
              " */\n",
              "(function(scope) {\n",
              "function span(text, styleAttributes = {}) {\n",
              "  const element = document.createElement('span');\n",
              "  element.textContent = text;\n",
              "  for (const key of Object.keys(styleAttributes)) {\n",
              "    element.style[key] = styleAttributes[key];\n",
              "  }\n",
              "  return element;\n",
              "}\n",
              "\n",
              "// Max number of bytes which will be uploaded at a time.\n",
              "const MAX_PAYLOAD_SIZE = 100 * 1024;\n",
              "\n",
              "function _uploadFiles(inputId, outputId) {\n",
              "  const steps = uploadFilesStep(inputId, outputId);\n",
              "  const outputElement = document.getElementById(outputId);\n",
              "  // Cache steps on the outputElement to make it available for the next call\n",
              "  // to uploadFilesContinue from Python.\n",
              "  outputElement.steps = steps;\n",
              "\n",
              "  return _uploadFilesContinue(outputId);\n",
              "}\n",
              "\n",
              "// This is roughly an async generator (not supported in the browser yet),\n",
              "// where there are multiple asynchronous steps and the Python side is going\n",
              "// to poll for completion of each step.\n",
              "// This uses a Promise to block the python side on completion of each step,\n",
              "// then passes the result of the previous step as the input to the next step.\n",
              "function _uploadFilesContinue(outputId) {\n",
              "  const outputElement = document.getElementById(outputId);\n",
              "  const steps = outputElement.steps;\n",
              "\n",
              "  const next = steps.next(outputElement.lastPromiseValue);\n",
              "  return Promise.resolve(next.value.promise).then((value) => {\n",
              "    // Cache the last promise value to make it available to the next\n",
              "    // step of the generator.\n",
              "    outputElement.lastPromiseValue = value;\n",
              "    return next.value.response;\n",
              "  });\n",
              "}\n",
              "\n",
              "/**\n",
              " * Generator function which is called between each async step of the upload\n",
              " * process.\n",
              " * @param {string} inputId Element ID of the input file picker element.\n",
              " * @param {string} outputId Element ID of the output display.\n",
              " * @return {!Iterable<!Object>} Iterable of next steps.\n",
              " */\n",
              "function* uploadFilesStep(inputId, outputId) {\n",
              "  const inputElement = document.getElementById(inputId);\n",
              "  inputElement.disabled = false;\n",
              "\n",
              "  const outputElement = document.getElementById(outputId);\n",
              "  outputElement.innerHTML = '';\n",
              "\n",
              "  const pickedPromise = new Promise((resolve) => {\n",
              "    inputElement.addEventListener('change', (e) => {\n",
              "      resolve(e.target.files);\n",
              "    });\n",
              "  });\n",
              "\n",
              "  const cancel = document.createElement('button');\n",
              "  inputElement.parentElement.appendChild(cancel);\n",
              "  cancel.textContent = 'Cancel upload';\n",
              "  const cancelPromise = new Promise((resolve) => {\n",
              "    cancel.onclick = () => {\n",
              "      resolve(null);\n",
              "    };\n",
              "  });\n",
              "\n",
              "  // Wait for the user to pick the files.\n",
              "  const files = yield {\n",
              "    promise: Promise.race([pickedPromise, cancelPromise]),\n",
              "    response: {\n",
              "      action: 'starting',\n",
              "    }\n",
              "  };\n",
              "\n",
              "  cancel.remove();\n",
              "\n",
              "  // Disable the input element since further picks are not allowed.\n",
              "  inputElement.disabled = true;\n",
              "\n",
              "  if (!files) {\n",
              "    return {\n",
              "      response: {\n",
              "        action: 'complete',\n",
              "      }\n",
              "    };\n",
              "  }\n",
              "\n",
              "  for (const file of files) {\n",
              "    const li = document.createElement('li');\n",
              "    li.append(span(file.name, {fontWeight: 'bold'}));\n",
              "    li.append(span(\n",
              "        `(${file.type || 'n/a'}) - ${file.size} bytes, ` +\n",
              "        `last modified: ${\n",
              "            file.lastModifiedDate ? file.lastModifiedDate.toLocaleDateString() :\n",
              "                                    'n/a'} - `));\n",
              "    const percent = span('0% done');\n",
              "    li.appendChild(percent);\n",
              "\n",
              "    outputElement.appendChild(li);\n",
              "\n",
              "    const fileDataPromise = new Promise((resolve) => {\n",
              "      const reader = new FileReader();\n",
              "      reader.onload = (e) => {\n",
              "        resolve(e.target.result);\n",
              "      };\n",
              "      reader.readAsArrayBuffer(file);\n",
              "    });\n",
              "    // Wait for the data to be ready.\n",
              "    let fileData = yield {\n",
              "      promise: fileDataPromise,\n",
              "      response: {\n",
              "        action: 'continue',\n",
              "      }\n",
              "    };\n",
              "\n",
              "    // Use a chunked sending to avoid message size limits. See b/62115660.\n",
              "    let position = 0;\n",
              "    do {\n",
              "      const length = Math.min(fileData.byteLength - position, MAX_PAYLOAD_SIZE);\n",
              "      const chunk = new Uint8Array(fileData, position, length);\n",
              "      position += length;\n",
              "\n",
              "      const base64 = btoa(String.fromCharCode.apply(null, chunk));\n",
              "      yield {\n",
              "        response: {\n",
              "          action: 'append',\n",
              "          file: file.name,\n",
              "          data: base64,\n",
              "        },\n",
              "      };\n",
              "\n",
              "      let percentDone = fileData.byteLength === 0 ?\n",
              "          100 :\n",
              "          Math.round((position / fileData.byteLength) * 100);\n",
              "      percent.textContent = `${percentDone}% done`;\n",
              "\n",
              "    } while (position < fileData.byteLength);\n",
              "  }\n",
              "\n",
              "  // All done.\n",
              "  yield {\n",
              "    response: {\n",
              "      action: 'complete',\n",
              "    }\n",
              "  };\n",
              "}\n",
              "\n",
              "scope.google = scope.google || {};\n",
              "scope.google.colab = scope.google.colab || {};\n",
              "scope.google.colab._files = {\n",
              "  _uploadFiles,\n",
              "  _uploadFilesContinue,\n",
              "};\n",
              "})(self);\n",
              "</script> "
            ]
          },
          "metadata": {}
        },
        {
          "output_type": "stream",
          "name": "stdout",
          "text": [
            "Saving 1661-0.txt to 1661-0.txt\n"
          ]
        }
      ],
      "source": [
        "from google.colab import files\n",
        "uploaded = files.upload()"
      ]
    },
    {
      "cell_type": "markdown",
      "source": [
        "###Step 3: Open and pre-process the data\n"
      ],
      "metadata": {
        "id": "T2g35kMdnHMB"
      }
    },
    {
      "cell_type": "code",
      "execution_count": null,
      "metadata": {
        "colab": {
          "base_uri": "https://localhost:8080/",
          "height": 140
        },
        "id": "xqG2I4SsVo5e",
        "outputId": "011daf30-838a-43b7-c450-910717921b7d"
      },
      "outputs": [
        {
          "output_type": "execute_result",
          "data": {
            "text/plain": [
              "\"Project Gutenberg's The Adventures of Sherlock Holmes, by Arthur Conan Doyle This eBook is for the use of anyone anywhere at no cost and with almost no restrictions whatsoever. You may copy it, give it away or re-use it under the terms of the Project Gutenberg License included with this eBook or online at www.gutenberg.net Title: The Adventures of Sherlock Holmes Author: Arthur Conan Doyle Release Date: November 29, 2002 [EBook #1661] Last Updated: May 20, 2019 Language: English Character set en\""
            ],
            "application/vnd.google.colaboratory.intrinsic+json": {
              "type": "string"
            }
          },
          "metadata": {},
          "execution_count": 3
        }
      ],
      "source": [
        "file = open(\"/content/1661-0.txt\", \"r\", encoding = \"utf8\")\n",
        "\n",
        "# store file in list\n",
        "lines = []\n",
        "for i in file:\n",
        "    lines.append(i)\n",
        "\n",
        "# Convert list to string\n",
        "data = \"\"\n",
        "for i in lines:\n",
        "  data = ' '. join(lines)\n",
        "\n",
        "#replace unnecessary stuff with space\n",
        "data = data.replace('\\n', '').replace('\\r', '').replace('\\ufeff', '').replace('“','').replace('”','')  #new line, carriage return, unicode character --> replace by space\n",
        "\n",
        "#remove unnecessary spaces\n",
        "data = data.split()\n",
        "data = ' '.join(data)\n",
        "data[:500]"
      ]
    },
    {
      "cell_type": "code",
      "execution_count": null,
      "metadata": {
        "colab": {
          "base_uri": "https://localhost:8080/"
        },
        "id": "4-EGiJhjVrRZ",
        "outputId": "90a304f9-e7cb-414f-85b0-019d866965ec"
      },
      "outputs": [
        {
          "output_type": "execute_result",
          "data": {
            "text/plain": [
              "573660"
            ]
          },
          "metadata": {},
          "execution_count": 4
        }
      ],
      "source": [
        "len(data)\n"
      ]
    },
    {
      "cell_type": "markdown",
      "source": [
        "###Step 4: Apply tokenization and some other changes\n"
      ],
      "metadata": {
        "id": "czdDks9JnNCD"
      }
    },
    {
      "cell_type": "code",
      "execution_count": null,
      "metadata": {
        "colab": {
          "base_uri": "https://localhost:8080/"
        },
        "id": "kcGY4GgrV5c7",
        "outputId": "b87fa65b-a257-42d3-ed07-580685e8460c"
      },
      "outputs": [
        {
          "output_type": "execute_result",
          "data": {
            "text/plain": [
              "[142, 4680, 1, 986, 5, 125, 33, 46, 556, 2164, 2165, 27, 987, 14, 22]"
            ]
          },
          "metadata": {},
          "execution_count": 5
        }
      ],
      "source": [
        "tokenizer = Tokenizer()\n",
        "tokenizer.fit_on_texts([data])\n",
        "\n",
        "# saving the tokenizer for predict function\n",
        "pickle.dump(tokenizer, open('token.pkl', 'wb'))\n",
        "\n",
        "sequence_data = tokenizer.texts_to_sequences([data])[0]\n",
        "sequence_data[:15]"
      ]
    },
    {
      "cell_type": "code",
      "execution_count": null,
      "metadata": {
        "colab": {
          "base_uri": "https://localhost:8080/"
        },
        "id": "-KRJGuTXWOw4",
        "outputId": "960708d1-01be-4fc8-94f6-20780ed3e366"
      },
      "outputs": [
        {
          "output_type": "execute_result",
          "data": {
            "text/plain": [
              "108958"
            ]
          },
          "metadata": {},
          "execution_count": 6
        }
      ],
      "source": [
        "len(sequence_data)\n"
      ]
    },
    {
      "cell_type": "code",
      "execution_count": null,
      "metadata": {
        "colab": {
          "base_uri": "https://localhost:8080/"
        },
        "id": "SKsAwfLRWQyx",
        "outputId": "92952329-0358-4987-c049-e7cacae8cb6c"
      },
      "outputs": [
        {
          "output_type": "stream",
          "name": "stdout",
          "text": [
            "8624\n"
          ]
        }
      ],
      "source": [
        "vocab_size = len(tokenizer.word_index) + 1\n",
        "print(vocab_size)"
      ]
    },
    {
      "cell_type": "code",
      "execution_count": null,
      "metadata": {
        "colab": {
          "base_uri": "https://localhost:8080/"
        },
        "id": "UivOz1jKWT30",
        "outputId": "281fa451-3f1a-4a42-d6ff-95993707ad25"
      },
      "outputs": [
        {
          "output_type": "stream",
          "name": "stdout",
          "text": [
            "The Length of sequences are:  108955\n"
          ]
        },
        {
          "output_type": "execute_result",
          "data": {
            "text/plain": [
              "array([[ 142, 4680,    1,  986],\n",
              "       [4680,    1,  986,    5],\n",
              "       [   1,  986,    5,  125],\n",
              "       [ 986,    5,  125,   33],\n",
              "       [   5,  125,   33,   46],\n",
              "       [ 125,   33,   46,  556],\n",
              "       [  33,   46,  556, 2164],\n",
              "       [  46,  556, 2164, 2165],\n",
              "       [ 556, 2164, 2165,   27],\n",
              "       [2164, 2165,   27,  987]])"
            ]
          },
          "metadata": {},
          "execution_count": 8
        }
      ],
      "source": [
        "sequences = []\n",
        "\n",
        "for i in range(3, len(sequence_data)):\n",
        "    words = sequence_data[i-3:i+1]\n",
        "    sequences.append(words)\n",
        "\n",
        "print(\"The Length of sequences are: \", len(sequences))\n",
        "sequences = np.array(sequences)\n",
        "sequences[:10]"
      ]
    },
    {
      "cell_type": "code",
      "execution_count": null,
      "metadata": {
        "id": "C7D1zHjHWs7l"
      },
      "outputs": [],
      "source": [
        "X = []\n",
        "y = []\n",
        "\n",
        "for i in sequences:\n",
        "    X.append(i[0:3])\n",
        "    y.append(i[3])\n",
        "\n",
        "X = np.array(X)\n",
        "y = np.array(y)"
      ]
    },
    {
      "cell_type": "code",
      "execution_count": null,
      "metadata": {
        "colab": {
          "base_uri": "https://localhost:8080/"
        },
        "id": "wVdOas9QW85d",
        "outputId": "1a98573f-6694-4219-a86e-97d16b185ac5"
      },
      "outputs": [
        {
          "output_type": "stream",
          "name": "stdout",
          "text": [
            "Data:  [[ 142 4680    1]\n",
            " [4680    1  986]\n",
            " [   1  986    5]\n",
            " [ 986    5  125]\n",
            " [   5  125   33]\n",
            " [ 125   33   46]\n",
            " [  33   46  556]\n",
            " [  46  556 2164]\n",
            " [ 556 2164 2165]\n",
            " [2164 2165   27]]\n",
            "Response:  [ 986    5  125   33   46  556 2164 2165   27  987]\n"
          ]
        }
      ],
      "source": [
        "print(\"Data: \", X[:10])\n",
        "print(\"Response: \", y[:10])\n"
      ]
    },
    {
      "cell_type": "code",
      "execution_count": null,
      "metadata": {
        "colab": {
          "base_uri": "https://localhost:8080/"
        },
        "id": "OHQWDj1pW-jy",
        "outputId": "667340dd-55a0-419f-8ba2-868fc5efdd4a"
      },
      "outputs": [
        {
          "output_type": "execute_result",
          "data": {
            "text/plain": [
              "array([[0., 0., 0., ..., 0., 0., 0.],\n",
              "       [0., 0., 0., ..., 0., 0., 0.],\n",
              "       [0., 0., 0., ..., 0., 0., 0.],\n",
              "       [0., 0., 0., ..., 0., 0., 0.],\n",
              "       [0., 0., 0., ..., 0., 0., 0.]], dtype=float32)"
            ]
          },
          "metadata": {},
          "execution_count": 11
        }
      ],
      "source": [
        "y = to_categorical(y, num_classes=vocab_size)\n",
        "y[:5]"
      ]
    },
    {
      "cell_type": "markdown",
      "source": [
        "###Step 5: Creating the model\n"
      ],
      "metadata": {
        "id": "Th6DXFxInXTn"
      }
    },
    {
      "cell_type": "code",
      "execution_count": null,
      "metadata": {
        "id": "fJMInOdpXCSa"
      },
      "outputs": [],
      "source": [
        "model = Sequential()\n",
        "model.add(Embedding(vocab_size, 10, input_length=3))\n",
        "model.add(LSTM(1000, return_sequences=True))\n",
        "model.add(LSTM(1000))\n",
        "model.add(Dense(1000, activation=\"relu\"))\n",
        "model.add(Dense(vocab_size, activation=\"softmax\"))"
      ]
    },
    {
      "cell_type": "code",
      "execution_count": null,
      "metadata": {
        "colab": {
          "base_uri": "https://localhost:8080/"
        },
        "id": "55MgTVymXCO7",
        "outputId": "7226d3e1-4b21-48f9-bb87-4197905cdeff"
      },
      "outputs": [
        {
          "output_type": "stream",
          "name": "stdout",
          "text": [
            "Model: \"sequential\"\n",
            "_________________________________________________________________\n",
            " Layer (type)                Output Shape              Param #   \n",
            "=================================================================\n",
            " embedding (Embedding)       (None, 3, 10)             86240     \n",
            "                                                                 \n",
            " lstm (LSTM)                 (None, 3, 1000)           4044000   \n",
            "                                                                 \n",
            " lstm_1 (LSTM)               (None, 1000)              8004000   \n",
            "                                                                 \n",
            " dense (Dense)               (None, 1000)              1001000   \n",
            "                                                                 \n",
            " dense_1 (Dense)             (None, 8624)              8632624   \n",
            "                                                                 \n",
            "=================================================================\n",
            "Total params: 21,767,864\n",
            "Trainable params: 21,767,864\n",
            "Non-trainable params: 0\n",
            "_________________________________________________________________\n"
          ]
        }
      ],
      "source": [
        "model.summary()\n"
      ]
    },
    {
      "cell_type": "markdown",
      "source": [
        "###Step 6: Plot the model\n"
      ],
      "metadata": {
        "id": "Q725hKXlnaFh"
      }
    },
    {
      "cell_type": "code",
      "execution_count": null,
      "metadata": {
        "colab": {
          "base_uri": "https://localhost:8080/",
          "height": 564
        },
        "id": "16l8NJheXCMW",
        "outputId": "fe1c3368-c9cb-42d6-d801-f151ec8d9284"
      },
      "outputs": [
        {
          "output_type": "execute_result",
          "data": {
            "image/png": "[encoded data removed]",
            "text/plain": [
              "<IPython.core.display.Image object>"
            ]
          },
          "metadata": {},
          "execution_count": 14
        }
      ],
      "source": [
        "from tensorflow import keras\n",
        "from keras.utils.vis_utils import plot_model\n",
        "\n",
        "keras.utils.plot_model(model, to_file='plot.png', show_layer_names=True)\n"
      ]
    },
    {
      "cell_type": "markdown",
      "source": [
        "###Step 7: Train the model\n"
      ],
      "metadata": {
        "id": "4pSyqLC9ncrt"
      }
    },
    {
      "cell_type": "code",
      "execution_count": null,
      "metadata": {
        "colab": {
          "base_uri": "https://localhost:8080/"
        },
        "id": "HuVO2WPuXCJ-",
        "outputId": "0cc4acf1-2d85-4a62-e386-dff2a1cc1220"
      },
      "outputs": [
        {
          "output_type": "stream",
          "name": "stdout",
          "text": [
            "Epoch 1/70\n",
            "1703/1703 [==============================] - ETA: 0s - loss: 6.4081\n",
            "Epoch 1: loss improved from inf to 6.40808, saving model to next_words.h5\n",
            "1703/1703 [==============================] - 44s 21ms/step - loss: 6.4081\n",
            "Epoch 2/70\n",
            "1703/1703 [==============================] - ETA: 0s - loss: 5.8201\n",
            "Epoch 2: loss improved from 6.40808 to 5.82009, saving model to next_words.h5\n",
            "1703/1703 [==============================] - 29s 17ms/step - loss: 5.8201\n",
            "Epoch 3/70\n",
            "1703/1703 [==============================] - ETA: 0s - loss: 5.4942\n",
            "Epoch 3: loss improved from 5.82009 to 5.49422, saving model to next_words.h5\n",
            "1703/1703 [==============================] - 29s 17ms/step - loss: 5.4942\n",
            "Epoch 4/70\n",
            "1703/1703 [==============================] - ETA: 0s - loss: 5.2291\n",
            "Epoch 4: loss improved from 5.49422 to 5.22908, saving model to next_words.h5\n",
            "1703/1703 [==============================] - 33s 19ms/step - loss: 5.2291\n",
            "Epoch 5/70\n",
            "1700/1703 [============================>.] - ETA: 0s - loss: 4.9916\n",
            "Epoch 5: loss improved from 5.22908 to 4.99168, saving model to next_words.h5\n",
            "1703/1703 [==============================] - 28s 17ms/step - loss: 4.9917\n",
            "Epoch 6/70\n",
            "1703/1703 [==============================] - ETA: 0s - loss: 4.7734\n",
            "Epoch 6: loss improved from 4.99168 to 4.77340, saving model to next_words.h5\n",
            "1703/1703 [==============================] - 28s 16ms/step - loss: 4.7734\n",
            "Epoch 7/70\n",
            "1700/1703 [============================>.] - ETA: 0s - loss: 4.5614\n",
            "Epoch 7: loss improved from 4.77340 to 4.56116, saving model to next_words.h5\n",
            "1703/1703 [==============================] - 28s 16ms/step - loss: 4.5612\n",
            "Epoch 8/70\n",
            "1703/1703 [==============================] - ETA: 0s - loss: 4.3503\n",
            "Epoch 8: loss improved from 4.56116 to 4.35034, saving model to next_words.h5\n",
            "1703/1703 [==============================] - 32s 19ms/step - loss: 4.3503\n",
            "Epoch 9/70\n",
            "1703/1703 [==============================] - ETA: 0s - loss: 4.1310\n",
            "Epoch 9: loss improved from 4.35034 to 4.13100, saving model to next_words.h5\n",
            "1703/1703 [==============================] - 27s 16ms/step - loss: 4.1310\n",
            "Epoch 10/70\n",
            "1701/1703 [============================>.] - ETA: 0s - loss: 3.9077\n",
            "Epoch 10: loss improved from 4.13100 to 3.90756, saving model to next_words.h5\n",
            "1703/1703 [==============================] - 27s 16ms/step - loss: 3.9076\n",
            "Epoch 11/70\n",
            "1702/1703 [============================>.] - ETA: 0s - loss: 3.6758\n",
            "Epoch 11: loss improved from 3.90756 to 3.67590, saving model to next_words.h5\n",
            "1703/1703 [==============================] - 27s 16ms/step - loss: 3.6759\n",
            "Epoch 12/70\n",
            "1702/1703 [============================>.] - ETA: 0s - loss: 3.4409\n",
            "Epoch 12: loss improved from 3.67590 to 3.44095, saving model to next_words.h5\n",
            "1703/1703 [==============================] - 27s 16ms/step - loss: 3.4409\n",
            "Epoch 13/70\n",
            "1703/1703 [==============================] - ETA: 0s - loss: 3.2060\n",
            "Epoch 13: loss improved from 3.44095 to 3.20597, saving model to next_words.h5\n",
            "1703/1703 [==============================] - 27s 16ms/step - loss: 3.2060\n",
            "Epoch 14/70\n",
            "1703/1703 [==============================] - ETA: 0s - loss: 2.9780\n",
            "Epoch 14: loss improved from 3.20597 to 2.97802, saving model to next_words.h5\n",
            "1703/1703 [==============================] - 27s 16ms/step - loss: 2.9780\n",
            "Epoch 15/70\n",
            "1703/1703 [==============================] - ETA: 0s - loss: 2.7525\n",
            "Epoch 15: loss improved from 2.97802 to 2.75252, saving model to next_words.h5\n",
            "1703/1703 [==============================] - 27s 16ms/step - loss: 2.7525\n",
            "Epoch 16/70\n",
            "1701/1703 [============================>.] - ETA: 0s - loss: 2.5278\n",
            "Epoch 16: loss improved from 2.75252 to 2.52790, saving model to next_words.h5\n",
            "1703/1703 [==============================] - 27s 16ms/step - loss: 2.5279\n",
            "Epoch 17/70\n",
            "1700/1703 [============================>.] - ETA: 0s - loss: 2.3101\n",
            "Epoch 17: loss improved from 2.52790 to 2.31023, saving model to next_words.h5\n",
            "1703/1703 [==============================] - 32s 19ms/step - loss: 2.3102\n",
            "Epoch 18/70\n",
            "1702/1703 [============================>.] - ETA: 0s - loss: 2.0928\n",
            "Epoch 18: loss improved from 2.31023 to 2.09285, saving model to next_words.h5\n",
            "1703/1703 [==============================] - 27s 16ms/step - loss: 2.0928\n",
            "Epoch 19/70\n",
            "1702/1703 [============================>.] - ETA: 0s - loss: 1.8901\n",
            "Epoch 19: loss improved from 2.09285 to 1.89008, saving model to next_words.h5\n",
            "1703/1703 [==============================] - 27s 16ms/step - loss: 1.8901\n",
            "Epoch 20/70\n",
            "1703/1703 [==============================] - ETA: 0s - loss: 1.6928\n",
            "Epoch 20: loss improved from 1.89008 to 1.69280, saving model to next_words.h5\n",
            "1703/1703 [==============================] - 27s 16ms/step - loss: 1.6928\n",
            "Epoch 21/70\n",
            "1703/1703 [==============================] - ETA: 0s - loss: 1.5170\n",
            "Epoch 21: loss improved from 1.69280 to 1.51703, saving model to next_words.h5\n",
            "1703/1703 [==============================] - 27s 16ms/step - loss: 1.5170\n",
            "Epoch 22/70\n",
            "1703/1703 [==============================] - ETA: 0s - loss: 1.3566\n",
            "Epoch 22: loss improved from 1.51703 to 1.35660, saving model to next_words.h5\n",
            "1703/1703 [==============================] - 27s 16ms/step - loss: 1.3566\n",
            "Epoch 23/70\n",
            "1701/1703 [============================>.] - ETA: 0s - loss: 1.2204\n",
            "Epoch 23: loss improved from 1.35660 to 1.22056, saving model to next_words.h5\n",
            "1703/1703 [==============================] - 27s 16ms/step - loss: 1.2206\n",
            "Epoch 24/70\n",
            "1701/1703 [============================>.] - ETA: 0s - loss: 1.1044\n",
            "Epoch 24: loss improved from 1.22056 to 1.10479, saving model to next_words.h5\n",
            "1703/1703 [==============================] - 27s 16ms/step - loss: 1.1048\n",
            "Epoch 25/70\n",
            "1703/1703 [==============================] - ETA: 0s - loss: 1.0075\n",
            "Epoch 25: loss improved from 1.10479 to 1.00749, saving model to next_words.h5\n",
            "1703/1703 [==============================] - 27s 16ms/step - loss: 1.0075\n",
            "Epoch 26/70\n",
            "1703/1703 [==============================] - ETA: 0s - loss: 0.9298\n",
            "Epoch 26: loss improved from 1.00749 to 0.92983, saving model to next_words.h5\n",
            "1703/1703 [==============================] - 27s 16ms/step - loss: 0.9298\n",
            "Epoch 27/70\n",
            "1703/1703 [==============================] - ETA: 0s - loss: 0.8621\n",
            "Epoch 27: loss improved from 0.92983 to 0.86213, saving model to next_words.h5\n",
            "1703/1703 [==============================] - 27s 16ms/step - loss: 0.8621\n",
            "Epoch 28/70\n",
            "1701/1703 [============================>.] - ETA: 0s - loss: 0.8123\n",
            "Epoch 28: loss improved from 0.86213 to 0.81262, saving model to next_words.h5\n",
            "1703/1703 [==============================] - 27s 16ms/step - loss: 0.8126\n",
            "Epoch 29/70\n",
            "1702/1703 [============================>.] - ETA: 0s - loss: 0.7674\n",
            "Epoch 29: loss improved from 0.81262 to 0.76740, saving model to next_words.h5\n",
            "1703/1703 [==============================] - 27s 16ms/step - loss: 0.7674\n",
            "Epoch 30/70\n",
            "1702/1703 [============================>.] - ETA: 0s - loss: 0.7299\n",
            "Epoch 30: loss improved from 0.76740 to 0.73005, saving model to next_words.h5\n",
            "1703/1703 [==============================] - 33s 19ms/step - loss: 0.7300\n",
            "Epoch 31/70\n",
            "1703/1703 [==============================] - ETA: 0s - loss: 0.7015\n",
            "Epoch 31: loss improved from 0.73005 to 0.70153, saving model to next_words.h5\n",
            "1703/1703 [==============================] - 28s 16ms/step - loss: 0.7015\n",
            "Epoch 32/70\n",
            "1703/1703 [==============================] - ETA: 0s - loss: 0.6782\n",
            "Epoch 32: loss improved from 0.70153 to 0.67817, saving model to next_words.h5\n",
            "1703/1703 [==============================] - 28s 16ms/step - loss: 0.6782\n",
            "Epoch 33/70\n",
            "1703/1703 [==============================] - ETA: 0s - loss: 0.6562\n",
            "Epoch 33: loss improved from 0.67817 to 0.65617, saving model to next_words.h5\n",
            "1703/1703 [==============================] - 33s 19ms/step - loss: 0.6562\n",
            "Epoch 34/70\n",
            "1703/1703 [==============================] - ETA: 0s - loss: 0.6329\n",
            "Epoch 34: loss improved from 0.65617 to 0.63286, saving model to next_words.h5\n",
            "1703/1703 [==============================] - 28s 17ms/step - loss: 0.6329\n",
            "Epoch 35/70\n",
            "1703/1703 [==============================] - ETA: 0s - loss: 0.6109\n",
            "Epoch 35: loss improved from 0.63286 to 0.61095, saving model to next_words.h5\n",
            "1703/1703 [==============================] - 28s 17ms/step - loss: 0.6109\n",
            "Epoch 36/70\n",
            "1703/1703 [==============================] - ETA: 0s - loss: 0.6045\n",
            "Epoch 36: loss improved from 0.61095 to 0.60454, saving model to next_words.h5\n",
            "1703/1703 [==============================] - 29s 17ms/step - loss: 0.6045\n",
            "Epoch 37/70\n",
            "1703/1703 [==============================] - ETA: 0s - loss: 0.5854\n",
            "Epoch 37: loss improved from 0.60454 to 0.58545, saving model to next_words.h5\n",
            "1703/1703 [==============================] - 28s 16ms/step - loss: 0.5854\n",
            "Epoch 38/70\n",
            "1703/1703 [==============================] - ETA: 0s - loss: 0.5746\n",
            "Epoch 38: loss improved from 0.58545 to 0.57465, saving model to next_words.h5\n",
            "1703/1703 [==============================] - 28s 17ms/step - loss: 0.5746\n",
            "Epoch 39/70\n",
            "1701/1703 [============================>.] - ETA: 0s - loss: 0.5609\n",
            "Epoch 39: loss improved from 0.57465 to 0.56119, saving model to next_words.h5\n",
            "1703/1703 [==============================] - 28s 16ms/step - loss: 0.5612\n",
            "Epoch 40/70\n",
            "1703/1703 [==============================] - ETA: 0s - loss: 0.5504\n",
            "Epoch 40: loss improved from 0.56119 to 0.55042, saving model to next_words.h5\n",
            "1703/1703 [==============================] - 33s 19ms/step - loss: 0.5504\n",
            "Epoch 41/70\n",
            "1703/1703 [==============================] - ETA: 0s - loss: 0.5356\n",
            "Epoch 41: loss improved from 0.55042 to 0.53564, saving model to next_words.h5\n",
            "1703/1703 [==============================] - 32s 19ms/step - loss: 0.5356\n",
            "Epoch 42/70\n",
            "1703/1703 [==============================] - ETA: 0s - loss: 0.5325\n",
            "Epoch 42: loss improved from 0.53564 to 0.53250, saving model to next_words.h5\n",
            "1703/1703 [==============================] - 28s 17ms/step - loss: 0.5325\n",
            "Epoch 43/70\n",
            "1703/1703 [==============================] - ETA: 0s - loss: 0.5260\n",
            "Epoch 43: loss improved from 0.53250 to 0.52600, saving model to next_words.h5\n",
            "1703/1703 [==============================] - 29s 17ms/step - loss: 0.5260\n",
            "Epoch 44/70\n",
            "1703/1703 [==============================] - ETA: 0s - loss: 0.5116\n",
            "Epoch 44: loss improved from 0.52600 to 0.51155, saving model to next_words.h5\n",
            "1703/1703 [==============================] - 28s 17ms/step - loss: 0.5116\n",
            "Epoch 45/70\n",
            "1703/1703 [==============================] - ETA: 0s - loss: 0.5081\n",
            "Epoch 45: loss improved from 0.51155 to 0.50814, saving model to next_words.h5\n",
            "1703/1703 [==============================] - 32s 19ms/step - loss: 0.5081\n",
            "Epoch 46/70\n",
            "1702/1703 [============================>.] - ETA: 0s - loss: 0.5010\n",
            "Epoch 46: loss improved from 0.50814 to 0.50090, saving model to next_words.h5\n",
            "1703/1703 [==============================] - 32s 19ms/step - loss: 0.5009\n",
            "Epoch 47/70\n",
            "1703/1703 [==============================] - ETA: 0s - loss: 0.4961\n",
            "Epoch 47: loss improved from 0.50090 to 0.49610, saving model to next_words.h5\n",
            "1703/1703 [==============================] - 33s 20ms/step - loss: 0.4961\n",
            "Epoch 48/70\n",
            "1701/1703 [============================>.] - ETA: 0s - loss: 0.4842\n",
            "Epoch 48: loss improved from 0.49610 to 0.48437, saving model to next_words.h5\n",
            "1703/1703 [==============================] - 33s 20ms/step - loss: 0.4844\n",
            "Epoch 49/70\n",
            "1701/1703 [============================>.] - ETA: 0s - loss: 0.4804\n",
            "Epoch 49: loss improved from 0.48437 to 0.48034, saving model to next_words.h5\n",
            "1703/1703 [==============================] - 33s 19ms/step - loss: 0.4803\n",
            "Epoch 50/70\n",
            "1701/1703 [============================>.] - ETA: 0s - loss: 0.4753\n",
            "Epoch 50: loss improved from 0.48034 to 0.47546, saving model to next_words.h5\n",
            "1703/1703 [==============================] - 33s 19ms/step - loss: 0.4755\n",
            "Epoch 51/70\n",
            "1703/1703 [==============================] - ETA: 0s - loss: 0.4724\n",
            "Epoch 51: loss improved from 0.47546 to 0.47239, saving model to next_words.h5\n",
            "1703/1703 [==============================] - 33s 19ms/step - loss: 0.4724\n",
            "Epoch 52/70\n",
            "1700/1703 [============================>.] - ETA: 0s - loss: 0.4676\n",
            "Epoch 52: loss improved from 0.47239 to 0.46787, saving model to next_words.h5\n",
            "1703/1703 [==============================] - 33s 20ms/step - loss: 0.4679\n",
            "Epoch 53/70\n",
            "1703/1703 [==============================] - ETA: 0s - loss: 0.4582\n",
            "Epoch 53: loss improved from 0.46787 to 0.45821, saving model to next_words.h5\n",
            "1703/1703 [==============================] - 33s 19ms/step - loss: 0.4582\n",
            "Epoch 54/70\n",
            "1702/1703 [============================>.] - ETA: 0s - loss: 0.4597\n",
            "Epoch 54: loss did not improve from 0.45821\n",
            "1703/1703 [==============================] - 27s 16ms/step - loss: 0.4597\n",
            "Epoch 55/70\n",
            "1703/1703 [==============================] - ETA: 0s - loss: 0.4498\n",
            "Epoch 55: loss improved from 0.45821 to 0.44976, saving model to next_words.h5\n",
            "1703/1703 [==============================] - 33s 19ms/step - loss: 0.4498\n",
            "Epoch 56/70\n",
            "1702/1703 [============================>.] - ETA: 0s - loss: 0.4465\n",
            "Epoch 56: loss improved from 0.44976 to 0.44649, saving model to next_words.h5\n",
            "1703/1703 [==============================] - 33s 19ms/step - loss: 0.4465\n",
            "Epoch 57/70\n",
            "1700/1703 [============================>.] - ETA: 0s - loss: 0.4480\n",
            "Epoch 57: loss did not improve from 0.44649\n",
            "1703/1703 [==============================] - 27s 16ms/step - loss: 0.4482\n",
            "Epoch 58/70\n",
            "1700/1703 [============================>.] - ETA: 0s - loss: 0.4412\n",
            "Epoch 58: loss improved from 0.44649 to 0.44118, saving model to next_words.h5\n",
            "1703/1703 [==============================] - 38s 22ms/step - loss: 0.4412\n",
            "Epoch 59/70\n",
            "1702/1703 [============================>.] - ETA: 0s - loss: 0.4394\n",
            "Epoch 59: loss improved from 0.44118 to 0.43934, saving model to next_words.h5\n",
            "1703/1703 [==============================] - 33s 19ms/step - loss: 0.4393\n",
            "Epoch 60/70\n",
            "1701/1703 [============================>.] - ETA: 0s - loss: 0.4305\n",
            "Epoch 60: loss improved from 0.43934 to 0.43051, saving model to next_words.h5\n",
            "1703/1703 [==============================] - 29s 17ms/step - loss: 0.4305\n",
            "Epoch 61/70\n",
            "1701/1703 [============================>.] - ETA: 0s - loss: 0.4298\n",
            "Epoch 61: loss improved from 0.43051 to 0.42985, saving model to next_words.h5\n",
            "1703/1703 [==============================] - 32s 19ms/step - loss: 0.4298\n",
            "Epoch 62/70\n",
            "1703/1703 [==============================] - ETA: 0s - loss: 0.4297\n",
            "Epoch 62: loss improved from 0.42985 to 0.42965, saving model to next_words.h5\n",
            "1703/1703 [==============================] - 34s 20ms/step - loss: 0.4297\n",
            "Epoch 63/70\n",
            "1701/1703 [============================>.] - ETA: 0s - loss: 0.4265\n",
            "Epoch 63: loss improved from 0.42965 to 0.42663, saving model to next_words.h5\n",
            "1703/1703 [==============================] - 33s 20ms/step - loss: 0.4266\n",
            "Epoch 64/70\n",
            "1702/1703 [============================>.] - ETA: 0s - loss: 0.4177\n",
            "Epoch 64: loss improved from 0.42663 to 0.41781, saving model to next_words.h5\n",
            "1703/1703 [==============================] - 33s 20ms/step - loss: 0.4178\n",
            "Epoch 65/70\n",
            "1702/1703 [============================>.] - ETA: 0s - loss: 0.4169\n",
            "Epoch 65: loss improved from 0.41781 to 0.41689, saving model to next_words.h5\n",
            "1703/1703 [==============================] - 34s 20ms/step - loss: 0.4169\n",
            "Epoch 66/70\n",
            "1701/1703 [============================>.] - ETA: 0s - loss: 0.4172\n",
            "Epoch 66: loss did not improve from 0.41689\n",
            "1703/1703 [==============================] - 27s 16ms/step - loss: 0.4173\n",
            "Epoch 67/70\n",
            "1703/1703 [==============================] - ETA: 0s - loss: 0.4149\n",
            "Epoch 67: loss improved from 0.41689 to 0.41488, saving model to next_words.h5\n",
            "1703/1703 [==============================] - 32s 19ms/step - loss: 0.4149\n",
            "Epoch 68/70\n",
            "1702/1703 [============================>.] - ETA: 0s - loss: 0.4150\n",
            "Epoch 68: loss did not improve from 0.41488\n",
            "1703/1703 [==============================] - 27s 16ms/step - loss: 0.4151\n",
            "Epoch 69/70\n",
            "1701/1703 [============================>.] - ETA: 0s - loss: 0.4077\n",
            "Epoch 69: loss improved from 0.41488 to 0.40762, saving model to next_words.h5\n",
            "1703/1703 [==============================] - 33s 19ms/step - loss: 0.4076\n",
            "Epoch 70/70\n",
            "1700/1703 [============================>.] - ETA: 0s - loss: 0.4069\n",
            "Epoch 70: loss improved from 0.40762 to 0.40722, saving model to next_words.h5\n",
            "1703/1703 [==============================] - 33s 19ms/step - loss: 0.4072\n"
          ]
        },
        {
          "output_type": "execute_result",
          "data": {
            "text/plain": [
              "<keras.callbacks.History at 0x7fcffea55960>"
            ]
          },
          "metadata": {},
          "execution_count": 15
        }
      ],
      "source": [
        "from tensorflow.keras.callbacks import ModelCheckpoint\n",
        "\n",
        "checkpoint = ModelCheckpoint(\"next_words.h5\", monitor='loss', verbose=1, save_best_only=True)\n",
        "model.compile(loss=\"categorical_crossentropy\", optimizer=Adam(learning_rate=0.001), metrics = [\"accuracy\"])\n",
        "model.fit(X, y, epochs=70, batch_size=64, callbacks=[checkpoint])"
      ]
    },
    {
      "cell_type": "markdown",
      "source": [
        "###Step 7: Let's predict\n",
        "\n"
      ],
      "metadata": {
        "id": "V6v7f96KnfRe"
      }
    },
    {
      "cell_type": "code",
      "execution_count": null,
      "metadata": {
        "id": "ho9sN6CfXCHu"
      },
      "outputs": [],
      "source": [
        "from tensorflow.keras.models import load_model\n",
        "import numpy as np\n",
        "import pickle\n",
        "\n",
        "# Load the model and tokenizer\n",
        "model = load_model('next_words.h5')\n",
        "tokenizer = pickle.load(open('token.pkl', 'rb'))\n",
        "\n",
        "def Predict_Next_Words(model, tokenizer, text):\n",
        "\n",
        "  sequence = tokenizer.texts_to_sequences([text])\n",
        "  sequence = np.array(sequence)\n",
        "  preds = np.argmax(model.predict(sequence))\n",
        "  predicted_word = \"\"\n",
        "\n",
        "  for key, value in tokenizer.word_index.items():\n",
        "      if value == preds:\n",
        "          predicted_word = key\n",
        "          break\n",
        "\n",
        "  print(predicted_word)\n",
        "  return predicted_word\n",
        "\n",
        "while(True):\n",
        "  text = input(\"Enter your line: \")\n",
        "\n",
        "  if text == \"0\":\n",
        "      print(\"Execution completed.....\")\n",
        "      break\n",
        "\n",
        "  else:\n",
        "      try:\n",
        "          text = text.split(\" \")\n",
        "          text = text[-3:]\n",
        "          print(text)\n",
        "\n",
        "          Predict_Next_Words(model, tokenizer, text)\n",
        "\n",
        "      except Exception as e:\n",
        "        print(\"Error occurred: \",e)\n",
        "        continue"
      ]
    }
  ],
  "metadata": {
    "colab": {
      "provenance": [],
      "gpuType": "T4"
    },
    "kernelspec": {
      "display_name": "Python 3",
      "name": "python3"
    },
    "language_info": {
      "name": "python"
    },
    "accelerator": "GPU"
  },
  "nbformat": 4,
  "nbformat_minor": 0
}